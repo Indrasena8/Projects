{
 "cells": [
  {
   "cell_type": "code",
   "execution_count": 3,
   "metadata": {},
   "outputs": [
    {
     "ename": "error",
     "evalue": "OpenCV(4.2.0) C:\\projects\\opencv-python\\opencv\\modules\\highgui\\src\\window.cpp:376: error: (-215:Assertion failed) size.width>0 && size.height>0 in function 'cv::imshow'\n",
     "output_type": "error",
     "traceback": [
      "\u001b[1;31m---------------------------------------------------------------------------\u001b[0m",
      "\u001b[1;31merror\u001b[0m                                     Traceback (most recent call last)",
      "\u001b[1;32m<ipython-input-3-7cf05d04426c>\u001b[0m in \u001b[0;36m<module>\u001b[1;34m\u001b[0m\n\u001b[0;32m     55\u001b[0m \u001b[1;33m\u001b[0m\u001b[0m\n\u001b[0;32m     56\u001b[0m     \u001b[1;31m# Display the Frame\u001b[0m\u001b[1;33m\u001b[0m\u001b[1;33m\u001b[0m\u001b[1;33m\u001b[0m\u001b[0m\n\u001b[1;32m---> 57\u001b[1;33m     \u001b[0mcv2\u001b[0m\u001b[1;33m.\u001b[0m\u001b[0mimshow\u001b[0m\u001b[1;33m(\u001b[0m\u001b[1;34m'Testing'\u001b[0m\u001b[1;33m,\u001b[0m\u001b[0mframe\u001b[0m\u001b[1;33m)\u001b[0m\u001b[1;33m\u001b[0m\u001b[1;33m\u001b[0m\u001b[0m\n\u001b[0m\u001b[0;32m     58\u001b[0m \u001b[1;33m\u001b[0m\u001b[0m\n\u001b[0;32m     59\u001b[0m     \u001b[1;31m# 27 == esc button. You can use any other button like ord('q')\u001b[0m\u001b[1;33m\u001b[0m\u001b[1;33m\u001b[0m\u001b[1;33m\u001b[0m\u001b[0m\n",
      "\u001b[1;31merror\u001b[0m: OpenCV(4.2.0) C:\\projects\\opencv-python\\opencv\\modules\\highgui\\src\\window.cpp:376: error: (-215:Assertion failed) size.width>0 && size.height>0 in function 'cv::imshow'\n"
     ]
    }
   ],
   "source": [
    "# Import Library\n",
    "import cv2\n",
    "\n",
    "# Callback Function for the Mouse, Circle\n",
    "def draw_circle(event,\n",
    "               x,\n",
    "               y,\n",
    "                flags,\n",
    "                param):\n",
    "    global center, clicked\n",
    "\n",
    "\n",
    "    # Get the Mouse Click Down & Up\n",
    "    # and Track the Center\n",
    "    if event==cv2.EVENT_LBUTTONDOWN:\n",
    "        center=(x,y)\n",
    "        clicked=False\n",
    "        \n",
    "    if event==cv2.EVENT_LBUTTONUP:\n",
    "        clicked=True\n",
    "    \n",
    "    \n",
    "# Zero Drawing of the Circle\n",
    "center=(0,0)\n",
    "clicked=False\n",
    "\n",
    "\n",
    "# Take a video\n",
    "cap=cv2.VideoCapture(0)\n",
    "\n",
    "\n",
    "# Create a Named Window for the Connections\n",
    "cv2.namedWindow('Testing')\n",
    "\n",
    "# Bind our Function with the Mouse Clicks\n",
    "cv2.setMouseCallback('Testing',draw_circle)\n",
    "\n",
    "\n",
    "# Time for Magic\n",
    "while True:\n",
    "    \n",
    "    \n",
    "    # Capture the frame\n",
    "    ret, frame=cap.read()\n",
    "    \n",
    "    # Check if Clicked is True\n",
    "    if clicked:\n",
    "    \n",
    "        # Draw a Circle on the Frame\n",
    "        cv2.circle(frame,\n",
    "                  center=center,\n",
    "                  radius=50,\n",
    "                  color=(255,0,255),\n",
    "                  thickness=3)\n",
    "        \n",
    "    # Display the Frame\n",
    "    cv2.imshow('Testing',frame)\n",
    "    \n",
    "    # 27 == esc button. You can use any other button like ord('q')\n",
    "    # If you try to close the window pressing the x you'll get in trouble (^_^)\n",
    "    if cv2.waitKey(3) & 0xFF==27:\n",
    "        break\n",
    "    \n",
    "    \n",
    "# Never forget first to release\n",
    "# And then to destroy   \n",
    "cap.release()\n",
    "cv2.destroAllWindows()\n",
    "\n",
    "\n"
   ]
  }
 ],
 "metadata": {
  "kernelspec": {
   "display_name": "Python 3",
   "language": "python",
   "name": "python3"
  },
  "language_info": {
   "codemirror_mode": {
    "name": "ipython",
    "version": 3
   },
   "file_extension": ".py",
   "mimetype": "text/x-python",
   "name": "python",
   "nbconvert_exporter": "python",
   "pygments_lexer": "ipython3",
   "version": "3.7.4"
  }
 },
 "nbformat": 4,
 "nbformat_minor": 4
}
