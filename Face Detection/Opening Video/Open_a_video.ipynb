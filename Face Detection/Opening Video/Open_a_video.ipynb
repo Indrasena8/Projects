{
 "cells": [
  {
   "cell_type": "code",
   "execution_count": 4,
   "metadata": {},
   "outputs": [
    {
     "name": "stdout",
     "output_type": "stream",
     "text": [
      "Error! Check your file path\n"
     ]
    }
   ],
   "source": [
    "# Import Libraries\n",
    "import cv2\n",
    "\n",
    "\n",
    "# Open the video from the previous lesson\n",
    "cap=cv2.VideoCapture('myvideo.mkv')\n",
    "\n",
    "\n",
    "\n",
    "# In case we wrote the path wrong\n",
    "if cap.isOpened() == False:\n",
    "    print('Error! Check your file path')\n",
    "\n",
    "\n",
    "\n",
    "# Some Magic!\n",
    "while cap.isOpened():\n",
    "    ret, frame == cap.read()\n",
    "    \n",
    "    if ret==True:\n",
    "    # We wrote it with 20 FPS on the previous lesson\n",
    "    # So, we need a delay of 1/20 if we want to see it\n",
    "    # Uncomment the line below if you want to see it\n",
    "    # time.sleep(1/20)\n",
    "    \n",
    "    \n",
    "        # Show it\n",
    "        cv2.imshow('frame',frame)\n",
    "\n",
    "        # 27 == esc button. You can use any other button like ord('q')\n",
    "        # If you try to close the window pressing the x you'll get in trouble (^_^)\n",
    "        if cv2.waitKey(15) & 0xFF==27:\n",
    "            break\n",
    "    \n",
    "    \n",
    "# Never forget first to release\n",
    "# And then to destroy\n",
    "cap.release()\n",
    "cv2.destroyAllWindows()\n"
   ]
  }
 ],
 "metadata": {
  "kernelspec": {
   "display_name": "Python 3",
   "language": "python",
   "name": "python3"
  },
  "language_info": {
   "codemirror_mode": {
    "name": "ipython",
    "version": 3
   },
   "file_extension": ".py",
   "mimetype": "text/x-python",
   "name": "python",
   "nbconvert_exporter": "python",
   "pygments_lexer": "ipython3",
   "version": "3.7.4"
  }
 },
 "nbformat": 4,
 "nbformat_minor": 4
}
